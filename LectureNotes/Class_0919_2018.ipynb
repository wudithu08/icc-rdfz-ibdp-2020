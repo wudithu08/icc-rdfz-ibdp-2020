{
 "cells": [
  {
   "cell_type": "markdown",
   "metadata": {},
   "source": [
    "*==========================================================================================================================*\n",
    "\n",
    "# Function\n",
    "\n",
    "\n",
    "\n",
    "#### 函数定义格式\n",
    "\n",
    "* 默认输出为None"
   ]
  },
  {
   "cell_type": "code",
   "execution_count": 12,
   "metadata": {},
   "outputs": [
    {
     "data": {
      "text/plain": [
       "5"
      ]
     },
     "execution_count": 12,
     "metadata": {},
     "output_type": "execute_result"
    }
   ],
   "source": [
    "def max(x, y):\n",
    "    if x > y:\n",
    "        return x\n",
    "    else:\n",
    "        return y\n",
    "max(3,5)"
   ]
  },
  {
   "cell_type": "markdown",
   "metadata": {},
   "source": [
    "*-----------------------------------------------------------------------------------------------------------------------------------------------------------------------------------------------------------------*\n",
    "\n",
    "#### 程序运行顺序（函数调用顺序（function invokation））\n",
    "\n",
    "* 先执行主程序\n",
    "* 将actual parameter 绑定到 formal parameter\n",
    "* 运行函数内容\n",
    "* 将函数返回值赋给调用语句\n",
    "* 继续执行主程序\n",
    "\n",
    "*----------------------------------------------------------------------------------------------------------------------------------------------------------------------------------------------------------------*"
   ]
  },
  {
   "cell_type": "code",
   "execution_count": 11,
   "metadata": {},
   "outputs": [
    {
     "name": "stdout",
     "output_type": "stream",
     "text": [
      "Jerry HAO\n",
      "Jerry HAO\n"
     ]
    }
   ],
   "source": [
    "def printName(firstName, lastName, reverse):\n",
    "    if reverse:\n",
    "        print (lastName + ', ' + firstName)\n",
    "    else:\n",
    "        print (firstName, lastName)\n",
    "#positional argument\n",
    "printName(lastName = \"HAO\",firstName = \"Jerry\",reverse = 0)\n",
    "\n",
    "#keyword argument\n",
    "printName(\"Jerry\",\"HAO\",False)\n",
    "\n",
    "#错误示范\n",
    "#printName(lastName = \"HAO\",firstName = \"Jerry\",0)"
   ]
  },
  {
   "cell_type": "markdown",
   "metadata": {},
   "source": [
    "#### 函数调用 - *两种参数传入方式*\n",
    "\n",
    "* Positional argument - 按照formal parameter顺序依次传入\n",
    "* Keyword argument - 使用 形参名+参数 的格式传入（顺序可以颠倒）\n",
    "\n",
    "*注意不能混用*"
   ]
  },
  {
   "cell_type": "markdown",
   "metadata": {},
   "source": [
    "*---------------------------------------------------------------------------------------------------------------------------------------------------------------------------------------------------------------*\n",
    "\n",
    "#### 默认参数 - Default parameter values\n",
    "\n",
    "* 当用户没有输入的时候 取default parameter"
   ]
  },
  {
   "cell_type": "code",
   "execution_count": 10,
   "metadata": {},
   "outputs": [
    {
     "name": "stdout",
     "output_type": "stream",
     "text": [
      "Jelly HAO\n"
     ]
    }
   ],
   "source": [
    "def printName(firstName = 'Jelly', lastName = 'HAO', reverse = 0):\n",
    "    if reverse:\n",
    "        print (lastName + ', ' + firstName)\n",
    "    else:\n",
    "        print (firstName, lastName)\n",
    "printName()"
   ]
  },
  {
   "cell_type": "markdown",
   "metadata": {},
   "source": [
    "*---------------------------------------------------------------------------------------------------------------------------------------------------------------------------------------------------------------*"
   ]
  },
  {
   "cell_type": "markdown",
   "metadata": {},
   "source": [
    "#### Scoping"
   ]
  },
  {
   "cell_type": "code",
   "execution_count": 13,
   "metadata": {},
   "outputs": [
    {
     "name": "stdout",
     "output_type": "stream",
     "text": [
      "x = 4\n",
      "z = 4\n",
      "x = 3\n",
      "y = 2\n"
     ]
    }
   ],
   "source": [
    "def f(x): #name x used as formal parameter\n",
    "    y = 1\n",
    "    x = x + y\n",
    "    print ('x =', x)\n",
    "    return x\n",
    "x = 3\n",
    "y = 2\n",
    "z = f(x) #value of x used as actual parameter\n",
    "print ('z =', z)\n",
    "print ('x =', x)\n",
    "print ('y =', y)"
   ]
  },
  {
   "cell_type": "markdown",
   "metadata": {},
   "source": [
    "注意两次print(x)的值不一样\n",
    "\n",
    "*Local parameter* - 局部变量只在一定区域内起作用\n",
    "* 函数中的参数x 与 函数外的参数x 是两个参数 \n",
    "\n",
    "*Global parameter* - 全局变量在全局起作用"
   ]
  },
  {
   "cell_type": "code",
   "execution_count": 14,
   "metadata": {},
   "outputs": [
    {
     "name": "stdout",
     "output_type": "stream",
     "text": [
      "x = 4\n",
      "z = 4\n",
      "x = abc\n",
      "x = 4\n",
      "x = 3\n",
      "z = <function f.<locals>.g at 0x0000016A51EFEE18>\n",
      "x = abc\n"
     ]
    }
   ],
   "source": [
    "def f(x):\n",
    "    def g():\n",
    "        x = 'abc'\n",
    "        print ('x =', x)\n",
    "    def h():\n",
    "        z = x\n",
    "        print ('z =', z)\n",
    "    x = x + 1\n",
    "    print ('x =', x)\n",
    "    h()\n",
    "    g()\n",
    "    print ('x =', x)\n",
    "    return g\n",
    "x = 3\n",
    "z = f(x)\n",
    "print ('x =', x)\n",
    "print ('z =', z)\n",
    "z()"
   ]
  },
  {
   "cell_type": "markdown",
   "metadata": {},
   "source": [
    "嵌套函数的Scoping\n",
    "* 外层函数的变量在内部函数*可以使用*\n",
    "* 内部函数的变量*不影响* 外部参数"
   ]
  },
  {
   "cell_type": "markdown",
   "metadata": {},
   "source": [
    "Stack - 数据格式 栈\n",
    "* 基本操作 push\n",
    "* 基本操作 pop"
   ]
  },
  {
   "cell_type": "markdown",
   "metadata": {},
   "source": [
    "*-------------------------------------------------------------------------------------------------------------------------------------------------------------------------------------------------------------------*\n",
    "\n",
    "#### 测试函数Test function & Specifications"
   ]
  },
  {
   "cell_type": "code",
   "execution_count": 21,
   "metadata": {},
   "outputs": [
    {
     "name": "stdout",
     "output_type": "stream",
     "text": [
      "Testing x = 0.25 and power = 1\n",
      "  0.25 ~= 0.25\n",
      "Testing x = 0.25 and power = 2\n",
      "  0.25 ~= 0.25\n",
      "Testing x = 0.25 and power = 3\n",
      "  0.24990749079734087 ~= 0.25\n",
      "Testing x = -0.25 and power = 1\n",
      "  -0.25 ~= -0.25\n",
      "Testing x = -0.25 and power = 2\n",
      " No root\n",
      "Testing x = -0.25 and power = 3\n",
      "  -0.24990749079734087 ~= -0.25\n",
      "Testing x = 2 and power = 1\n",
      "  1.999908447265625 ~= 2\n",
      "Testing x = 2 and power = 2\n",
      "  2.0000906325876713 ~= 2\n",
      "Testing x = 2 and power = 3\n",
      "  2.000059155646067 ~= 2\n",
      "Testing x = -2 and power = 1\n",
      "  -1.999908447265625 ~= -2\n",
      "Testing x = -2 and power = 2\n",
      " No root\n",
      "Testing x = -2 and power = 3\n",
      "  -2.000059155646067 ~= -2\n",
      "Testing x = 8 and power = 1\n",
      "  7.999931335449219 ~= 8\n",
      "Testing x = 8 and power = 2\n",
      "  7.99999568007479 ~= 8\n",
      "Testing x = 8 and power = 3\n",
      "  8.000068664747232 ~= 8\n",
      "Testing x = -8 and power = 1\n",
      "  -7.999931335449219 ~= -8\n",
      "Testing x = -8 and power = 2\n",
      " No root\n",
      "Testing x = -8 and power = 3\n",
      "  -8.000068664747232 ~= -8\n"
     ]
    }
   ],
   "source": [
    "def findRoot(x, power, epsilon):\n",
    "    #Specification\n",
    "    \"\"\"Assumes x and epsilon int or float, power an int,\n",
    "            epsilon > 0 & power >= 1\n",
    "        Returns float y such that y**power is within epsilon of x.\n",
    "            If such a float does not exist, it returns None\"\"\"\n",
    "    if x < 0 and power%2 == 0:\n",
    "        return None\n",
    "    low = min(-1.0, x)\n",
    "    high = max(1.0, x)\n",
    "    ans = (high + low)/2.0\n",
    "    while abs(ans**power - x) >= epsilon:\n",
    "        if ans**power < x:\n",
    "            low = ans\n",
    "        else:\n",
    "            high = ans\n",
    "        ans = (high + low)/2.0\n",
    "    return ans\n",
    "\n",
    "#测试函数\n",
    "def testFindRoot():\n",
    "    epsilon = 0.0001\n",
    "    for x in (0.25, -0.25, 2, -2, 8, -8):\n",
    "        for power in range(1, 4):\n",
    "            print ('Testing x = ' + str(x) + ' and power = ' + str(power))\n",
    "            result = findRoot(x, power, epsilon)\n",
    "            if result == None:\n",
    "                print (' No root')\n",
    "            else:\n",
    "                print (' ', result**power, '~=', x)\n",
    "testFindRoot()"
   ]
  },
  {
   "cell_type": "markdown",
   "metadata": {},
   "source": [
    "测试数据选取\n",
    "* normal 正常数据\n",
    "* abnormal 非正常数据\n",
    "* boundary 边界数据 （重要）\n",
    "\n",
    "*==========================================================================================================================*"
   ]
  },
  {
   "cell_type": "markdown",
   "metadata": {},
   "source": [
    "# Recursion"
   ]
  },
  {
   "cell_type": "markdown",
   "metadata": {},
   "source": [
    "* a way to design solutions by divide-and-conquer or decrease-and-conquer \n",
    "* must have 1 or more *base cases* (最终结果)\n",
    "* all recursion problem can be solved by iteration\n"
   ]
  },
  {
   "cell_type": "code",
   "execution_count": 33,
   "metadata": {},
   "outputs": [
    {
     "name": "stdout",
     "output_type": "stream",
     "text": [
      "6\n",
      "6\n"
     ]
    }
   ],
   "source": [
    "def mult_iter(a,b):\n",
    "    result = 0\n",
    "    while b > 0:\n",
    "        result += a\n",
    "        b -= 1\n",
    "    return result\n",
    "\n",
    "def mult(a,b):\n",
    "    if b == 1:\n",
    "        return a\n",
    "    else:\n",
    "        return a + mult(a,b-1)\n",
    "print(mult_iter(3,2))\n",
    "print(mult(3,2))"
   ]
  },
  {
   "cell_type": "code",
   "execution_count": 45,
   "metadata": {},
   "outputs": [
    {
     "name": "stdout",
     "output_type": "stream",
     "text": [
      "10\n",
      "24\n",
      "9\n"
     ]
    }
   ],
   "source": [
    "def sum_recur(n):\n",
    "    '''inpur:n(int)\n",
    "    output:1+2+3...+n'''\n",
    "    if n == 1:\n",
    "        return 1\n",
    "    else:\n",
    "        return n + sum_recur(n-1)\n",
    "\n",
    "def fac_recur(n):\n",
    "    '''input:n(int)\n",
    "    output:n!'''\n",
    "    if n == 1:\n",
    "        return 1\n",
    "    else:\n",
    "        return n * fac_recur(n-1)\n",
    "def power_recur(a,b):\n",
    "    '''input:a,b(int,b>0)\n",
    "    output:a^b'''\n",
    "    if b == 0:\n",
    "        return 1\n",
    "    else:\n",
    "        return a * power_recur(a,b-1)\n",
    "print(sum_recur(4))\n",
    "print(fac_recur(4))\n",
    "print(power_recur(3,2))"
   ]
  }
 ],
 "metadata": {
  "kernelspec": {
   "display_name": "Python 3",
   "language": "python",
   "name": "python3"
  },
  "language_info": {
   "codemirror_mode": {
    "name": "ipython",
    "version": 3
   },
   "file_extension": ".py",
   "mimetype": "text/x-python",
   "name": "python",
   "nbconvert_exporter": "python",
   "pygments_lexer": "ipython3",
   "version": "3.6.5"
  }
 },
 "nbformat": 4,
 "nbformat_minor": 2
}
