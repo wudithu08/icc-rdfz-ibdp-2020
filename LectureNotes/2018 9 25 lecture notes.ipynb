{
 "cells": [
  {
   "cell_type": "markdown",
   "metadata": {},
   "source": [
    "## Review\n",
    "* Recursive\n",
    "    * properties\n",
    "        * call to a function to create its own scope/environment\n",
    "        * bingings of variables in each scope do not change\n",
    "        * previous scope\n",
    "    * simpler, more intuitive\n",
    "    * efficient from programmer POV\n",
    "    * inefficient computer POV\n"
   ]
  },
  {
   "cell_type": "code",
   "execution_count": null,
   "metadata": {},
   "outputs": [],
   "source": [
    "def fact(n):\n",
    "    if n==1:\n",
    "        return 1\n",
    "    else:\n",
    "        return n*fact(n-1)\n",
    "print(fact(4))"
   ]
  },
  {
   "cell_type": "markdown",
   "metadata": {},
   "source": [
    "## Induction\n",
    "**prove 1+2+3+…+n=(n(n+1))/2 is true**\n",
    "1. Pn=1: \n",
    "    - LHS=1\n",
    "    - RHS=(1*(1+1))/2=1\n",
    "2. Assume Pn=k is true\n",
    "    - 1+2+3+…+k=(k(k+1))/2\n",
    "3. Prove Pn=k+1:\n",
    "    - LHS=(k(k+1))/2+k+1=(2k+2+k^2+k)/2=(k^2+3k+2)/2\n",
    "    - RHS=(k+1)(k+2)/2=(k^2+3k+2)/2=LHS\n"
   ]
  },
  {
   "cell_type": "markdown",
   "metadata": {},
   "source": [
    "## Hanoi\n",
    "**recursion**\n",
    "1. n-1 to B\n",
    "2. 1 to C\n",
    "3. n-1 to C"
   ]
  },
  {
   "cell_type": "code",
   "execution_count": 6,
   "metadata": {},
   "outputs": [
    {
     "name": "stdout",
     "output_type": "stream",
     "text": [
      "7\n"
     ]
    }
   ],
   "source": [
    "global k\n",
    "k=0\n",
    "def hanoi(n,fr,space,to):\n",
    "    global k\n",
    "    if n ==1:\n",
    "        k+=1\n",
    "        #if k % 1000000==0:-- check it did not break( coz I tried n=64)\n",
    "            #print(k)\n",
    "        #print(fr,\"--\",to)--show the specific solutions\n",
    "    else:\n",
    "        hanoi(n-1,fr,to,space)\n",
    "        hanoi(1,fr,space,to)\n",
    "        hanoi(n-1,space,fr,to)\n",
    "    return k\n",
    "print(hanoi(3,\"B\",\"C\",\"A\"))"
   ]
  },
  {
   "cell_type": "markdown",
   "metadata": {},
   "source": [
    "## Think recursively\n",
    "- smaller\n",
    "- basic\n",
    "- smaller"
   ]
  },
  {
   "cell_type": "markdown",
   "metadata": {},
   "source": [
    "## Fibonacci\n",
    "- rabbits\n",
    "- think recursively\n"
   ]
  },
  {
   "cell_type": "markdown",
   "metadata": {},
   "source": [
    "## Import another file as module\n",
    "- import ( the name of your file)\n",
    "    - use as name.function\n",
    "- import (name) as * \n",
    "    - import everything from it, so doesn't need to write name.\n",
    "    - but may cause conflict\n",
    "    "
   ]
  },
  {
   "cell_type": "markdown",
   "metadata": {},
   "source": [
    "## Files\n",
    "- open(\"filename\",\"mode(r or w)\")"
   ]
  }
 ],
 "metadata": {
  "kernelspec": {
   "display_name": "Python 3",
   "language": "python",
   "name": "python3"
  },
  "language_info": {
   "codemirror_mode": {
    "name": "ipython",
    "version": 3
   },
   "file_extension": ".py",
   "mimetype": "text/x-python",
   "name": "python",
   "nbconvert_exporter": "python",
   "pygments_lexer": "ipython3",
   "version": "3.6.5"
  }
 },
 "nbformat": 4,
 "nbformat_minor": 2
}
