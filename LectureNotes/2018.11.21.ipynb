{
 "cells": [
  {
   "cell_type": "markdown",
   "metadata": {},
   "source": [
    "# Linked List  \n",
    "###### wrriten by hhshhd  \n",
    ">review IBDP S2IBHL 2018Nov19th Quiz Reflection  \n",
    "  \n",
    "  \n",
    "  \n",
    "## Linked list  \n",
    "### The Unordered List Abstract Data Type  \n",
    "### Linked list  \n",
    "> Unordered     "
   ]
  },
  {
   "cell_type": "code",
   "execution_count": 25,
   "metadata": {},
   "outputs": [
    {
     "data": {
      "text/plain": [
       "6"
      ]
     },
     "execution_count": 25,
     "metadata": {},
     "output_type": "execute_result"
    }
   ],
   "source": [
    "class Node:\n",
    "    def __init__(self,initdata):\n",
    "        self.data = initdata\n",
    "        self.next = None\n",
    "\n",
    "    def getData(self):\n",
    "        return self.data\n",
    "\n",
    "    def getNext(self):\n",
    "        return self.next\n",
    "\n",
    "    def setData(self,newdata):\n",
    "        self.data = newdata\n",
    "\n",
    "    def setNext(self,newnext):\n",
    "        self.next = newnext\n",
    "class UnorderedList:\n",
    "\n",
    "    def __init__(self):\n",
    "        self.head = None\n",
    "        \n",
    "    def __str__(self):\n",
    "        return str(self.head) \n",
    "        \n",
    "    def isEmpty(self):\n",
    "        return self.head == None\n",
    "    \n",
    "    def add(self,item):\n",
    "        temp = Node(item)\n",
    "        temp.setNext(self.head)\n",
    "        self.head = temp\n",
    "    \n",
    "    def size(self):\n",
    "        current = self.head\n",
    "        count = 0\n",
    "        while current != None:\n",
    "            count = count + 1\n",
    "            current = current.getNext()\n",
    "\n",
    "        return count\n",
    "    def search(self,item):\n",
    "        current = self.head\n",
    "        found = False\n",
    "        while current != None and not found:\n",
    "            if current.getData() == item:\n",
    "                found = True\n",
    "            else:\n",
    "                current = current.getNext()\n",
    "\n",
    "        return found\n",
    "def print_list(node):\n",
    "        while node is not None:\n",
    "            print(node, end=\" \")\n",
    "            node = node.next\n",
    "        print()\n",
    "        \n",
    "def print_backward(list):\n",
    "        if list is None: return\n",
    "        head = list\n",
    "        tail = list.next\n",
    "        print_backward(tail)\n",
    "        print(head, end=\" \")\n",
    "        \n",
    "mylist = UnorderedList()\n",
    "mylist.add(31)\n",
    "mylist.add(77)\n",
    "mylist.add(17)\n",
    "mylist.add(93)\n",
    "mylist.add(26)\n",
    "mylist.add(54)\n",
    "mylist.size()"
   ]
  },
  {
   "cell_type": "code",
   "execution_count": 14,
   "metadata": {
    "scrolled": true
   },
   "outputs": [
    {
     "name": "stdout",
     "output_type": "stream",
     "text": [
      "1 2 3 \n",
      "3 2 1 "
     ]
    }
   ],
   "source": [
    "class Node:\n",
    "    def __init__(self, cargo=None, next=None):\n",
    "        self.cargo = cargo\n",
    "        self.next  = next\n",
    "\n",
    "    def __str__(self):\n",
    "        return str(self.cargo)\n",
    "    \n",
    "node1 = Node(1)\n",
    "node2 = Node(2)\n",
    "node3 = Node(3)\n",
    "node1.next = node2 \n",
    "node2.next = node3\n",
    "\n",
    "def print_list(node):\n",
    "    while node is not None:\n",
    "        print(node, end=\" \")\n",
    "        node = node.next\n",
    "    print()\n",
    "    \n",
    "def print_backward(list):\n",
    "    if list is None: return\n",
    "    head = list\n",
    "    tail = list.next\n",
    "    print_backward(tail)\n",
    "    print(head, end=\" \")\n",
    "    \n",
    "def remove_second(list):\n",
    "    if list is None: return\n",
    "    first = list\n",
    "    second = list.next\n",
    "    # Make the first node refer to the third\n",
    "    first.next = second.next\n",
    "    # Separate the second node from the rest of the list\n",
    "    second.next = None\n",
    "    return second\n",
    "\n",
    "print_list(node1)\n",
    "print_backward(node1)"
   ]
  },
  {
   "cell_type": "markdown",
   "metadata": {},
   "source": []
  }
 ],
 "metadata": {
  "kernelspec": {
   "display_name": "Python 3",
   "language": "python",
   "name": "python3"
  },
  "language_info": {
   "codemirror_mode": {
    "name": "ipython",
    "version": 3
   },
   "file_extension": ".py",
   "mimetype": "text/x-python",
   "name": "python",
   "nbconvert_exporter": "python",
   "pygments_lexer": "ipython3",
   "version": "3.6.5"
  }
 },
 "nbformat": 4,
 "nbformat_minor": 2
}
