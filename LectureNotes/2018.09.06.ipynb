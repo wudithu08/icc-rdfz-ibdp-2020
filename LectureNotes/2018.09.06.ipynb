{
 "cells": [
  {
   "cell_type": "code",
   "execution_count": 1,
   "metadata": {},
   "outputs": [],
   "source": [
    "import numpy as np\n",
    "import cv2"
   ]
  },
  {
   "cell_type": "markdown",
   "metadata": {},
   "source": [
    "operations: simple one-step mathmatics\n",
    "expressions: combination of operations\n",
    "programming language:primitive constructs only(numbers, strings, simple operators), syntactically correct, no static sematics error, meaning must be what the programmer intended\n",
    "goal: learin the syntax and semantics&how to use these elements&computational modes of thoughts\n",
    "a program is a sequencs of definitions and commands:\n",
    "definitions evaluated\n",
    "commands executed by python interpreter in a shell\n",
    "Objects: programs manipulate data objects"
   ]
  },
  {
   "cell_type": "markdown",
   "metadata": {},
   "source": [
    "# Objects"
   ]
  },
  {
   "cell_type": "markdown",
   "metadata": {},
   "source": [
    "objects can be scalar or non-scalar\n",
    "scalar objects include int(integers), float(real numbers), bool(True or False), NoneType(None)\n",
    "\n"
   ]
  },
  {
   "cell_type": "code",
   "execution_count": 15,
   "metadata": {},
   "outputs": [
    {
     "name": "stdout",
     "output_type": "stream",
     "text": [
      "2\n",
      "<class 'NoneType'>\n"
     ]
    }
   ],
   "source": [
    "def boom(i):\n",
    "    print(i)\n",
    "print(type(boom(2)))"
   ]
  },
  {
   "cell_type": "code",
   "execution_count": 14,
   "metadata": {},
   "outputs": [
    {
     "name": "stdout",
     "output_type": "stream",
     "text": [
      "<class 'int'>\n",
      "<class 'float'>\n"
     ]
    }
   ],
   "source": [
    "a=3\n",
    "print(type(a))\n",
    "a+=0.1\n",
    "print(type(a))"
   ]
  },
  {
   "cell_type": "markdown",
   "metadata": {},
   "source": [
    "expressions:combine objects and operators"
   ]
  },
  {
   "cell_type": "markdown",
   "metadata": {},
   "source": [
    "operators on ints and floats     sum:+ difference:- product:* division:/ int division:// remainder:% power:**"
   ]
  },
  {
   "cell_type": "markdown",
   "metadata": {},
   "source": [
    "operator precedence without parentheses: **,*,/,+and-"
   ]
  },
  {
   "cell_type": "markdown",
   "metadata": {},
   "source": [
    "equal sign: assignment of a value\n",
    "previous values may still be stored in memory but cannot be found"
   ]
  },
  {
   "cell_type": "markdown",
   "metadata": {},
   "source": [
    "logic operators: not, and, or"
   ]
  },
  {
   "cell_type": "code",
   "execution_count": 21,
   "metadata": {},
   "outputs": [
    {
     "name": "stdout",
     "output_type": "stream",
     "text": [
      "False\n",
      "True\n",
      "False\n"
     ]
    }
   ],
   "source": [
    "a=1\n",
    "print(not a)\n",
    "print(a==1 or a==2)\n",
    "print(a==1 and a==2)"
   ]
  },
  {
   "cell_type": "markdown",
   "metadata": {},
   "source": [
    "branching programs include a test, a block of coude to execute if the test is true/false"
   ]
  },
  {
   "cell_type": "markdown",
   "metadata": {},
   "source": [
    "for example, x%2==0 evaluates to True when the remainder of x divided by 2 is 0"
   ]
  },
  {
   "cell_type": "markdown",
   "metadata": {},
   "source": [
    "control flow - branching\n",
    "condition has a value True or False\n",
    "programs run in constant time"
   ]
  },
  {
   "cell_type": "code",
   "execution_count": 25,
   "metadata": {},
   "outputs": [
    {
     "name": "stdout",
     "output_type": "stream",
     "text": [
      "75\n",
      "C\n"
     ]
    }
   ],
   "source": [
    "a=eval(input())\n",
    "if a>100:\n",
    "    print(\"???\")\n",
    "elif a>=90:\n",
    "    print(\"A\")\n",
    "elif a>=80:\n",
    "    print(\"B\")\n",
    "elif a>=70:\n",
    "    print(\"C\")\n",
    "elif a>=60:\n",
    "    print(\"D\")\n",
    "else:\n",
    "    print(\"Horrible\")"
   ]
  },
  {
   "cell_type": "markdown",
   "metadata": {},
   "source": [
    "# Lecture 2 "
   ]
  },
  {
   "cell_type": "markdown",
   "metadata": {},
   "source": [
    "variables must be descriptive, meaningful, helps you read code, can be overwritten"
   ]
  },
  {
   "cell_type": "code",
   "execution_count": 26,
   "metadata": {},
   "outputs": [
    {
     "name": "stdout",
     "output_type": "stream",
     "text": [
      "1 1\n",
      "2 1\n"
     ]
    }
   ],
   "source": [
    "x=1\n",
    "y=2\n",
    "y=x\n",
    "x=y\n",
    "print(x,y)\n",
    "x=1\n",
    "y=2\n",
    "temp=y\n",
    "y=x\n",
    "x=temp\n",
    "print(x,y)"
   ]
  },
  {
   "cell_type": "code",
   "execution_count": 27,
   "metadata": {},
   "outputs": [
    {
     "name": "stdout",
     "output_type": "stream",
     "text": [
      "playhearthstone\n"
     ]
    }
   ],
   "source": [
    "a=\"play\"\n",
    "b=\"hearthstone\"\n",
    "print(a+b)"
   ]
  },
  {
   "cell_type": "markdown",
   "metadata": {},
   "source": [
    "operations on strings: concentation, successive concentation, return length, indexing, slicing"
   ]
  },
  {
   "cell_type": "code",
   "execution_count": 28,
   "metadata": {},
   "outputs": [
    {
     "name": "stdout",
     "output_type": "stream",
     "text": [
      "ri\n"
     ]
    }
   ],
   "source": [
    "a=\"eric\"\n",
    "print(a[1:3])"
   ]
  },
  {
   "cell_type": "markdown",
   "metadata": {},
   "source": [
    "input:user types in something and hits enter, returns entered sequence(string only)"
   ]
  },
  {
   "cell_type": "markdown",
   "metadata": {},
   "source": [
    "IDE:integrated development program, includes shell, integrated debugger, text editor"
   ]
  },
  {
   "cell_type": "markdown",
   "metadata": {},
   "source": [
    "homework: Finish book chapter 1-3, finish all videos and all exercises"
   ]
  },
  {
   "cell_type": "code",
   "execution_count": null,
   "metadata": {},
   "outputs": [],
   "source": []
  }
 ],
 "metadata": {
  "kernelspec": {
   "display_name": "Python 3",
   "language": "python",
   "name": "python3"
  },
  "language_info": {
   "codemirror_mode": {
    "name": "ipython",
    "version": 3
   },
   "file_extension": ".py",
   "mimetype": "text/x-python",
   "name": "python",
   "nbconvert_exporter": "python",
   "pygments_lexer": "ipython3",
   "version": "3.6.6"
  }
 },
 "nbformat": 4,
 "nbformat_minor": 2
}
