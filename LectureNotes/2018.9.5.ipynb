{
 "cells": [
  {
   "cell_type": "markdown",
   "metadata": {},
   "source": [
    "# Intro to Jupyter Notebook & edX"
   ]
  },
  {
   "cell_type": "markdown",
   "metadata": {},
   "source": [
    "###### CS HL 0905 written by hhshhd "
   ]
  },
  {
   "cell_type": "markdown",
   "metadata": {},
   "source": [
    "### Jupyter Notebook"
   ]
  },
  {
   "cell_type": "code",
   "execution_count": 1,
   "metadata": {},
   "outputs": [
    {
     "name": "stdout",
     "output_type": "stream",
     "text": [
      "6\n"
     ]
    }
   ],
   "source": [
    "import random\n",
    "a=random.randint(1,27)\n",
    "print(a)"
   ]
  },
  {
   "cell_type": "markdown",
   "metadata": {},
   "source": [
    "First time try to use python 3 in Jupyter.👆.   \n",
    "tips:   \n",
    "run=shift+enter  \n",
    "hide output results= Cell->Current Outputs->Clear  \n",
    "Other shortcuts please click👇 to learn more.  "
   ]
  },
  {
   "cell_type": "markdown",
   "metadata": {},
   "source": [
    "![image](/LectureNotes/Pics for notes/Something Interesting/c.png)"
   ]
  },
  {
   "cell_type": "markdown",
   "metadata": {},
   "source": [
    "### edX Learning"
   ]
  },
  {
   "cell_type": "markdown",
   "metadata": {},
   "source": [
    "MAKE SURE EVERYONE JOIN IN THE COURSE CALLED \n",
    "##### [Introduction to Computer Science and Programing Using Python](https://courses.edx.org/courses/course-v1:MITx+6.00.1x+2T2018/course/)\n",
    "#### You can decide whether you need a certificate👇"
   ]
  },
  {
   "cell_type": "markdown",
   "metadata": {},
   "source": [
    "![image](/LectureNotes/Pics for notes/Something Interesting/d.png)"
   ]
  },
  {
   "cell_type": "markdown",
   "metadata": {},
   "source": [
    ">MITx:6.00.1x  \n",
    "6->Department/subject (CS)  \n",
    "00->basic information of CS  \n",
    "1->start of base  \n",
    "x->courses online  \n"
   ]
  },
  {
   "cell_type": "markdown",
   "metadata": {},
   "source": [
    ">[kagggggle](https://www.kaggle.com)——主要为开发商和数据科学家提供举办机器学习竞赛、托管数据库、编写和分享代码的平台。"
   ]
  },
  {
   "cell_type": "markdown",
   "metadata": {},
   "source": [
    "我们的课程是跟随着edX上教课的内容走的，所以根据<font color=#CD0000>edX Learning</font>完成当周所对应的Chapter的所有视频+练习+作业。"
   ]
  },
  {
   "cell_type": "markdown",
   "metadata": {},
   "source": [
    "![image](/LectureNotes/Pics for notes/Something Interesting/e.png)"
   ]
  },
  {
   "cell_type": "markdown",
   "metadata": {},
   "source": [
    "### Overview of Course \n",
    "-**learn computational modes of thinking**  \n",
    "-master the art of computational problem solving  \n",
    "-make computers do what you want them to do"
   ]
  },
  {
   "cell_type": "markdown",
   "metadata": {},
   "source": [
    "**What does a comupter do?**  \n",
    "-calculations   \n",
    "1.bulit-in functions  \n",
    "2.self-define functions  \n",
    "-memory  "
   ]
  },
  {
   "cell_type": "markdown",
   "metadata": {},
   "source": [
    "www = world wide web"
   ]
  },
  {
   "cell_type": "markdown",
   "metadata": {},
   "source": [
    "**Algorithms**  \n",
    "why algorithms?   \n",
    "1.speed up  \n",
    "2.save space of storage  "
   ]
  },
  {
   "cell_type": "markdown",
   "metadata": {},
   "source": [
    "**Types of Knowledge,**  \n",
    "-declaritive knowledge  \n",
    "-imperative knwoledge  "
   ]
  },
  {
   "cell_type": "code",
   "execution_count": 2,
   "metadata": {},
   "outputs": [
    {
     "name": "stdout",
     "output_type": "stream",
     "text": [
      "number:25\n",
      "5.000000000053722\n"
     ]
    }
   ],
   "source": [
    "A=int(input('number:'))\n",
    "a=1\n",
    "t=0\n",
    "while (t**2)!=A:\n",
    "    t=(a+A/a)/2\n",
    "    a=t\n",
    "    if -0.000001<A-(t**2)<0.000001:\n",
    "        break\n",
    "print(a)"
   ]
  },
  {
   "cell_type": "markdown",
   "metadata": {},
   "source": [
    "tips: \n",
    "1.变量定义不可以使python自带的一些字词  \n",
    "2.变量定义要一目了然，让读者能爱看得懂   \n",
    "3.close enough!= equal，所以要定义区间  \n",
    "4.尽量使用简便的算法，如能使用比大小加减就不适用乘除判断"
   ]
  },
  {
   "cell_type": "markdown",
   "metadata": {},
   "source": [
    "### Computer are machines  \n",
    "0.fixed program  \n",
    ">computer \n",
    "-calculator   \n",
    "-Alan Turing's Bombe  \n",
    "\n",
    "1.stored program  \n",
    ">computer  \n",
    "-machine stores and excutes instructions.  "
   ]
  },
  {
   "cell_type": "markdown",
   "metadata": {},
   "source": [
    "# Weekly Hw:\n",
    "edX online study (Chapter1->Chapter11)\n",
    "1. Reading e-books word by word and take notes/highlight/mindmap.\n",
    "2. Watching videos in edX ( and do the exercises) \n",
    "3. Problem set \n",
    "Submit homework on edX\n",
    "-To show your Hw finished, make sure every works with 绿色的对勾👇"
   ]
  }
 ],
 "metadata": {
  "kernelspec": {
   "display_name": "Python 3",
   "language": "python",
   "name": "python3"
  },
  "language_info": {
   "codemirror_mode": {
    "name": "ipython",
    "version": 3
   },
   "file_extension": ".py",
   "mimetype": "text/x-python",
   "name": "python",
   "nbconvert_exporter": "python",
   "pygments_lexer": "ipython3",
   "version": "3.6.5"
  }
 },
 "nbformat": 4,
 "nbformat_minor": 2
}
