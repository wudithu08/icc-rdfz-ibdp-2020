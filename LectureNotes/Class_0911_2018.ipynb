{
 "cells": [
  {
   "cell_type": "markdown",
   "metadata": {},
   "source": [
    "# Loop"
   ]
  },
  {
   "cell_type": "code",
   "execution_count": 5,
   "metadata": {},
   "outputs": [
    {
     "name": "stdout",
     "output_type": "stream",
     "text": [
      "1X1=1 \n",
      "1X2=2 2X2=4 \n",
      "1X3=3 2X3=6 3X3=9 \n",
      "1X4=4 2X4=8 3X4=12 4X4=16 \n",
      "1X5=5 2X5=10 3X5=15 4X5=20 5X5=25 \n",
      "1X6=6 2X6=12 3X6=18 4X6=24 5X6=30 6X6=36 \n",
      "1X7=7 2X7=14 3X7=21 4X7=28 5X7=35 6X7=42 7X7=49 \n",
      "1X8=8 2X8=16 3X8=24 4X8=32 5X8=40 6X8=48 7X8=56 8X8=64 \n",
      "1X9=9 2X9=18 3X9=27 4X9=36 5X9=45 6X9=54 7X9=63 8X9=72 9X9=81 \n",
      "1X1=1 \n",
      "1X2=2 2X2=4 \n",
      "1X3=3 2X3=6 3X3=9 \n",
      "1X4=4 2X4=8 3X4=12 4X4=16 \n",
      "1X5=5 2X5=10 3X5=15 4X5=20 5X5=25 \n",
      "1X6=6 2X6=12 3X6=18 4X6=24 5X6=30 6X6=36 \n",
      "1X7=7 2X7=14 3X7=21 4X7=28 5X7=35 6X7=42 7X7=49 \n",
      "1X8=8 2X8=16 3X8=24 4X8=32 5X8=40 6X8=48 7X8=56 8X8=64 \n",
      "1X9=9 2X9=18 3X9=27 4X9=36 5X9=45 6X9=54 7X9=63 8X9=72 9X9=81 \n"
     ]
    }
   ],
   "source": [
    "def multiTable(n):\n",
    "    for i in range(1,n+1):\n",
    "        for j in range(1,i+1):\n",
    "            print(str(j)+\"X\"+str(i)+'='+str(i*j),end = ' ')\n",
    "        print('')\n",
    "multiTable(9)\n",
    "\n",
    "def multiTable1(n):\n",
    "    i = 1\n",
    "    while i <= n:\n",
    "        j = 1\n",
    "        while j <= i:\n",
    "            print(str(j)+\"X\"+str(i)+'='+str(i*j),end = ' ')\n",
    "            j+=1\n",
    "        print('')\n",
    "        i+=1\n",
    "multiTable1(9)"
   ]
  },
  {
   "cell_type": "markdown",
   "metadata": {},
   "source": [
    "## Range\n",
    "\n",
    "range(i,j,k)\n",
    "- i => start, j => end, k => step\n",
    "\n",
    "- include i, exclude k \n",
    " \n",
    "## Break\n",
    "\n",
    "Jump out of current loop\n",
    "\n",
    "- *一个*Break跳出*一个*循环\n",
    "    "
   ]
  },
  {
   "cell_type": "code",
   "execution_count": 6,
   "metadata": {},
   "outputs": [
    {
     "name": "stdout",
     "output_type": "stream",
     "text": [
      "5\n",
      "5\n"
     ]
    }
   ],
   "source": [
    "mysum = 0\n",
    "for i in range(5,11,2):\n",
    "    mysum += i\n",
    "    #print(i)\n",
    "    if mysum == 5:\n",
    "        print(i)\n",
    "        break\n",
    "print(mysum)"
   ]
  },
  {
   "cell_type": "markdown",
   "metadata": {},
   "source": [
    "## For loop vs While loop\n",
    "\n",
    "for loop\n",
    "- know number of iterations\n",
    "- can end early via break\n",
    "- uses a counter\n",
    "- can rewrite a for loop using a while loop\n",
    "\n",
    "while loop\n",
    "- unbounded number of iterations\n",
    "- can end early via break\n",
    "- can use a counter but must initialize before loop and increment it inside loop\n",
    "- may not be able t rewrite a while loop using\n"
   ]
  },
  {
   "cell_type": "code",
   "execution_count": 12,
   "metadata": {},
   "outputs": [
    {
     "name": "stdout",
     "output_type": "stream",
     "text": [
      "0,1,2,3,4,0;1;2;3;4;"
     ]
    }
   ],
   "source": [
    "# 注意 伪代码中有3种循环顺序\n",
    "# judge first\n",
    "i = 0\n",
    "while i < 5: \n",
    "    print(i,end = ',')\n",
    "    i += 1\n",
    "\n",
    "# execute fitst\n",
    "i = 0\n",
    "while True:\n",
    "    print(i,end = ';')\n",
    "    i += 1\n",
    "    if not i < 5: \n",
    "        break"
   ]
  },
  {
   "cell_type": "markdown",
   "metadata": {},
   "source": [
    "## 流程图\n",
    "- 开始：圆角矩形\n",
    "- input/output：平行四边形\n",
    "- process: 矩形\n",
    "- 判断：judge\n",
    "*详情见MIT lec2_branch_loops*"
   ]
  }
 ],
 "metadata": {
  "kernelspec": {
   "display_name": "Python 3",
   "language": "python",
   "name": "python3"
  },
  "language_info": {
   "codemirror_mode": {
    "name": "ipython",
    "version": 3
   },
   "file_extension": ".py",
   "mimetype": "text/x-python",
   "name": "python",
   "nbconvert_exporter": "python",
   "pygments_lexer": "ipython3",
   "version": "3.6.5"
  }
 },
 "nbformat": 4,
 "nbformat_minor": 2
}
