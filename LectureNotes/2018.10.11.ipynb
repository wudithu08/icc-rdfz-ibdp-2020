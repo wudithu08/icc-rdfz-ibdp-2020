{
 "cells": [
  {
   "cell_type": "markdown",
   "metadata": {},
   "source": [
    "# 2018.10.11  preview of IA & Computational Thinking and IB HL option \n",
    "##### wrriten by hhshhd\n",
    "## CS IA  \n",
    "#### -The Solution  \n",
    "> client/user  \n",
    "  solve problem   \n",
    "  real-world problem<  \n",
    "\n",
    "Total score: 34  \n",
    "PAPER PART:  \n",
    "A(6)success criteria proposal/plan    (# Flowchart)  \n",
    "B(6)design overview  \n",
    "C(12)Implement techniques-->complexity  \n",
    "D(6)Video(2-7mins + extensbility) (how meet these criteria)      \n",
    "E(4)Evaluation( reflection )   \n",
    "  \n",
    "IA upload CODE  \n",
    "IA CAS    \n",
    "  \n",
    "  \n",
    "## Computational Thinking   \n",
    "#### Tools used\n",
    "#### the concept of problem     \n",
    "-Identification  \n",
    "> Identify the problem\n",
    "   understand the problem\n",
    "   formulate the problem<\n",
    "  \n",
    "-Development  \n",
    "> explore various alternatives<\n",
    "  \n",
    "-Selection  \n",
    "> choose the best alternative<  \n",
    "  \n",
    "-Implementation  \n",
    "> implement the selected solution<  \n",
    "  \n",
    "#### Algorithm\n",
    "  expression : a+b  \n",
    "  statement: a+b=c  \n",
    "#### flowcharts  \n",
    "#### pseudocode  \n",
    "#### the programming concept\n",
    "  \n",
    "### General principles\n",
    "###### proceduraly    \n",
    "###### logicaly     \n",
    "###### ahead  \n",
    "###### concurrently  \n",
    "###### abstractly  \n",
    "\n",
    "### Homework  \n",
    "#### 作业：\n",
    "###### 1. 书 topic 4 174-240页都看完，把里面出现的所有程序和代码都自己写一遍（纸笔手写）。\n",
    "###### 2. 下周二考试，内容就是topic 4.1-4.2 书上内容。 \n",
    "###### 3. 预习edx课的 lecture 9: classes and inheritance\n"
   ]
  },
  {
   "cell_type": "code",
   "execution_count": null,
   "metadata": {},
   "outputs": [],
   "source": [
    "\n"
   ]
  },
  {
   "cell_type": "code",
   "execution_count": null,
   "metadata": {},
   "outputs": [],
   "source": []
  }
 ],
 "metadata": {
  "kernelspec": {
   "display_name": "Python 3",
   "language": "python",
   "name": "python3"
  },
  "language_info": {
   "codemirror_mode": {
    "name": "ipython",
    "version": 3
   },
   "file_extension": ".py",
   "mimetype": "text/x-python",
   "name": "python",
   "nbconvert_exporter": "python",
   "pygments_lexer": "ipython3",
   "version": "3.6.5"
  }
 },
 "nbformat": 4,
 "nbformat_minor": 2
}
