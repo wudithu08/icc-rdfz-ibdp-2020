{
 "cells": [
  {
   "cell_type": "markdown",
   "metadata": {},
   "source": [
    "python分形<br>\n",
    "1:base case<br>\n",
    "2:recursive case:<br>\n",
    "m+(m+1)+(m+2)...+n<br>\n",
    "sum(m,n)=m+sum(m-1,n)=m+m+1+sum(m-2,n)<br>\n",
    "f(7)=f(6)+f(5)=f(5)+f(4)+f(4)+f(3)=f(4)+f(3)+f(3)+f(2)+f(3)+f(2)+f(2)+f(1)=f(3)+f(2)+f(2)+f(1)+f(2)+f(1)+f(1)+f(0)+f(2)+f(1)+f(1)+f(0)+f(1)+f(0)+1=f(2)+f(1)+3*(f(1)+f(0))+    \n",
    "3!:3*f(2)=3*2*f(1)=3*2*1*f(0)=3*2*1*1<br>\n",
    "每个数的计算次数也符合斐波那契数列<br>"
   ]
  },
  {
   "cell_type": "code",
   "execution_count": 18,
   "metadata": {},
   "outputs": [],
   "source": [
    "def isPalindrome(s):\n",
    "    \"\"\"\n",
    "    Assumes s is a str\n",
    "    Returns True if the letters in s form a palindrome;\n",
    "    False otherwise. Non-letters and capitalization are ignored.\n",
    "    \"\"\"\n",
    "    def toChars(s):\n",
    "        s = s.lower()\n",
    "        letters = ''\n",
    "        for c in s:\n",
    "            if c in 'abcdefghijklmnopqrstuvwxyz':\n",
    "                letters = letters + c\n",
    "            return letters\n",
    "    def isPal(s):\n",
    "        print (' isPal called with', s)\n",
    "        if len(s) <= 1:\n",
    "            print (' About to return True from base case')\n",
    "            return True\n",
    "        else:\n",
    "            print(' About to return', answer, 'for', s)\n",
    "            return s[0] == s[-1] and isPal(s[1:-1])\n",
    "    return isPal(toChars(s))\n",
    "def testIsPalindrome():\n",
    "    print ('Try dogGod')\n",
    "    print (isPalindrome('dogGod'))\n",
    "    print ('Try doGood')\n",
    "    print (isPalindrome('doGood'))"
   ]
  },
  {
   "cell_type": "code",
   "execution_count": 20,
   "metadata": {},
   "outputs": [
    {
     "name": "stdout",
     "output_type": "stream",
     "text": [
      "Try dogGod\n",
      " isPal called with d\n",
      " About to return True from base case\n",
      "True\n",
      "Try doGood\n",
      " isPal called with d\n",
      " About to return True from base case\n",
      "True\n"
     ]
    }
   ],
   "source": [
    "testIsPalindrome()"
   ]
  },
  {
   "cell_type": "markdown",
   "metadata": {},
   "source": [
    "all recursions can be rewritten into iterations<br>\n",
    "This implementation of isPalindrome is an example of a problem-solving\n",
    "principle known as divide-and-conquer. (This principle is related to but\n",
    "different from divide-and-conquer algorithms, which are discussed in Chapter\n",
    "10.) The problem-solving principle is to conquer a hard problem by breaking it\n",
    "into a set of subproblems with the properties that<br>\n",
    "• the subproblems are easier to solve than the original problem, and<br>\n",
    "• solutions of the subproblems can be combined to solve the original\n",
    "problem."
   ]
  },
  {
   "cell_type": "code",
   "execution_count": 24,
   "metadata": {},
   "outputs": [
    {
     "ename": "IndentationError",
     "evalue": "expected an indented block (<ipython-input-24-491d223fad15>, line 12)",
     "output_type": "error",
     "traceback": [
      "\u001b[1;36m  File \u001b[1;32m\"<ipython-input-24-491d223fad15>\"\u001b[1;36m, line \u001b[1;32m12\u001b[0m\n\u001b[1;33m    global numFibCalls\u001b[0m\n\u001b[1;37m         ^\u001b[0m\n\u001b[1;31mIndentationError\u001b[0m\u001b[1;31m:\u001b[0m expected an indented block\n"
     ]
    }
   ],
   "source": [
    "def fib(x):\n",
    "     \"\"\"Assumes x an int >= 0\n",
    "     Returns Fibonacci of x\"\"\"\n",
    "     global numFibCalls\n",
    "     numFibCalls += 1\n",
    "     if x == 0 or x == 1:\n",
    "         return 1\n",
    "     else:\n",
    "         return fib(x-1) + fib(x-2)\n",
    "def testFib(n):\n",
    "     for i in range(n+1):\n",
    "     global numFibCalls\n",
    "     numFibCalls = 0\n",
    "     print('fib of', i, '=', fib(i))\n",
    "     print ('fib called', numFibCalls, 'times.')"
   ]
  },
  {
   "cell_type": "code",
   "execution_count": null,
   "metadata": {},
   "outputs": [],
   "source": []
  }
 ],
 "metadata": {
  "kernelspec": {
   "display_name": "Python 3",
   "language": "python",
   "name": "python3"
  },
  "language_info": {
   "codemirror_mode": {
    "name": "ipython",
    "version": 3
   },
   "file_extension": ".py",
   "mimetype": "text/x-python",
   "name": "python",
   "nbconvert_exporter": "python",
   "pygments_lexer": "ipython3",
   "version": "3.6.6"
  }
 },
 "nbformat": 4,
 "nbformat_minor": 2
}
