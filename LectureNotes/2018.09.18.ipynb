{
 "cells": [
  {
   "cell_type": "markdown",
   "metadata": {},
   "source": [
    "# Intro to Function\n",
    "###### 2018.9.18 written by hhshhd"
   ]
  },
  {
   "cell_type": "code",
   "execution_count": 1,
   "metadata": {},
   "outputs": [
    {
     "data": {
      "text/plain": [
       "True"
      ]
     },
     "execution_count": 1,
     "metadata": {},
     "output_type": "execute_result"
    }
   ],
   "source": [
    "'a' in 'ab'"
   ]
  },
  {
   "cell_type": "code",
   "execution_count": 2,
   "metadata": {},
   "outputs": [
    {
     "data": {
      "text/plain": [
       "False"
      ]
     },
     "execution_count": 2,
     "metadata": {},
     "output_type": "execute_result"
    }
   ],
   "source": [
    "'the' in 'th'"
   ]
  },
  {
   "cell_type": "code",
   "execution_count": 14,
   "metadata": {},
   "outputs": [
    {
     "name": "stdout",
     "output_type": "stream",
     "text": [
      "True\n"
     ]
    }
   ],
   "source": [
    "def isIn(x,y):\n",
    "    a=0\n",
    "    for i in y:\n",
    "        for j in x:\n",
    "            if i==j:\n",
    "                a+=1\n",
    "    if a==min(len(y),len(x)):\n",
    "        return True\n",
    "    else:\n",
    "        return False\n",
    "print(isIn('teh','steh'))"
   ]
  },
  {
   "cell_type": "markdown",
   "metadata": {},
   "source": [
    ">字符串比大小从往后从大  \n",
    " while区别for  \n"
   ]
  },
  {
   "cell_type": "markdown",
   "metadata": {},
   "source": [
    "# Function  \n",
    "### Decomposition   \n",
    "break problem into different, self-contained, pieces  \n",
    "### Abstraction\n",
    " Suppress details of method to compute something from use of that computation  \n",
    " ## Create Sturcture with Decomposition  \n",
    " > modules  \n",
    " -self-contained. \n",
    " -break up code  \n",
    " -intended to be resuable  \n",
    " -keep code organized  \n",
    " -keep code coherent  \n",
    " ## Suppress details with abstraction\n",
    " \n",
    " ## Functions\n",
    " -name   \n",
    " -parameters.  \n",
    " > 实参actual parameter  \n",
    "   形参formal parameter    \n",
    " \n",
    " Global scope  \n",
    "     f scope  \n",
    " \n",
    " -docstring.   \n",
    " -body.   "
   ]
  }
 ],
 "metadata": {
  "kernelspec": {
   "display_name": "Python 3",
   "language": "python",
   "name": "python3"
  },
  "language_info": {
   "codemirror_mode": {
    "name": "ipython",
    "version": 3
   },
   "file_extension": ".py",
   "mimetype": "text/x-python",
   "name": "python",
   "nbconvert_exporter": "python",
   "pygments_lexer": "ipython3",
   "version": "3.6.5"
  }
 },
 "nbformat": 4,
 "nbformat_minor": 2
}
