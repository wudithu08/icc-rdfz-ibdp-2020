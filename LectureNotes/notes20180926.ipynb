{
 "cells": [
  {
   "cell_type": "code",
   "execution_count": 1,
   "metadata": {},
   "outputs": [
    {
     "ename": "SyntaxError",
     "evalue": "invalid syntax (<ipython-input-1-9e8c7cfae13e>, line 1)",
     "output_type": "error",
     "traceback": [
      "\u001b[0;36m  File \u001b[0;32m\"<ipython-input-1-9e8c7cfae13e>\"\u001b[0;36m, line \u001b[0;32m1\u001b[0m\n\u001b[0;31m    CSV comma-separated value\u001b[0m\n\u001b[0m            ^\u001b[0m\n\u001b[0;31mSyntaxError\u001b[0m\u001b[0;31m:\u001b[0m invalid syntax\n"
     ]
    }
   ],
   "source": [
    "CSV comma-separated value\n",
    "URL uniform resource locator"
   ]
  },
  {
   "cell_type": "code",
   "execution_count": 2,
   "metadata": {},
   "outputs": [
    {
     "ename": "SyntaxError",
     "evalue": "invalid syntax (<ipython-input-2-038be922a719>, line 1)",
     "output_type": "error",
     "traceback": [
      "\u001b[0;36m  File \u001b[0;32m\"<ipython-input-2-038be922a719>\"\u001b[0;36m, line \u001b[0;32m1\u001b[0m\n\u001b[0;31m    ipv4 e.g.(172.168.1.1) now\u001b[0m\n\u001b[0m         ^\u001b[0m\n\u001b[0;31mSyntaxError\u001b[0m\u001b[0;31m:\u001b[0m invalid syntax\n"
     ]
    }
   ],
   "source": [
    "ipv4 e.g.(172.168.1.1) now\n",
    "ipv6 internet protocol 第四版\n",
    "tuples *an ordered sequence of elements, can mix element types\n",
    "*immutable, cannot change element value\n",
    "*represented with parantheses\n"
   ]
  },
  {
   "cell_type": "code",
   "execution_count": 3,
   "metadata": {},
   "outputs": [
    {
     "ename": "SyntaxError",
     "evalue": "invalid syntax (<ipython-input-3-a1485938fd32>, line 1)",
     "output_type": "error",
     "traceback": [
      "\u001b[0;36m  File \u001b[0;32m\"<ipython-input-3-a1485938fd32>\"\u001b[0;36m, line \u001b[0;32m1\u001b[0m\n\u001b[0;31m    Can only be read but not change\u001b[0m\n\u001b[0m           ^\u001b[0m\n\u001b[0;31mSyntaxError\u001b[0m\u001b[0;31m:\u001b[0m invalid syntax\n"
     ]
    }
   ],
   "source": [
    "Can only be read but not change\n",
    "\t• {} dictionary\n",
    "\t• [] list\n",
    "\t• () tuple\n",
    "\t• \"\" string\n",
    "Compound data\n",
    "Dictionary {key1:value1,key2:value2,key3:value3}\n",
    "\t1. Index[i]\n",
    "\t2. Slicing[begin,end] 前闭后开\n",
    "\t3. Add append *only one element\n"
   ]
  },
  {
   "cell_type": "code",
   "execution_count": 4,
   "metadata": {},
   "outputs": [
    {
     "ename": "NameError",
     "evalue": "name 'temp' is not defined",
     "output_type": "error",
     "traceback": [
      "\u001b[0;31m---------------------------------------------------------------------------\u001b[0m",
      "\u001b[0;31mNameError\u001b[0m                                 Traceback (most recent call last)",
      "\u001b[0;32m<ipython-input-4-b3a7435bd479>\u001b[0m in \u001b[0;36m<module>\u001b[0;34m()\u001b[0m\n\u001b[0;32m----> 1\u001b[0;31m \u001b[0mx\u001b[0m \u001b[0;34m=\u001b[0m \u001b[0mtemp\u001b[0m\u001b[0;34m\u001b[0m\u001b[0m\n\u001b[0m\u001b[1;32m      2\u001b[0m \u001b[0my\u001b[0m \u001b[0;34m=\u001b[0m \u001b[0mtemp\u001b[0m\u001b[0;34m\u001b[0m\u001b[0m\n\u001b[1;32m      3\u001b[0m \u001b[0mx\u001b[0m \u001b[0;34m=\u001b[0m \u001b[0my\u001b[0m\u001b[0;34m\u001b[0m\u001b[0m\n",
      "\u001b[0;31mNameError\u001b[0m: name 'temp' is not defined"
     ]
    }
   ],
   "source": [
    "x = temp\n",
    "x = y\n",
    "y = temp\n"
   ]
  },
  {
   "cell_type": "code",
   "execution_count": 5,
   "metadata": {},
   "outputs": [
    {
     "ename": "SyntaxError",
     "evalue": "unexpected EOF while parsing (<ipython-input-5-a640aba8a37a>, line 5)",
     "output_type": "error",
     "traceback": [
      "\u001b[0;36m  File \u001b[0;32m\"<ipython-input-5-a640aba8a37a>\"\u001b[0;36m, line \u001b[0;32m5\u001b[0m\n\u001b[0;31m    #when there is only one element in the tuple, there must be a comma after the element to show it is a tuple\u001b[0m\n\u001b[0m                                                                                                               ^\u001b[0m\n\u001b[0;31mSyntaxError\u001b[0m\u001b[0;31m:\u001b[0m unexpected EOF while parsing\n"
     ]
    }
   ],
   "source": [
    "def get_data(aTuple):\n",
    "    nums = ()\n",
    "    words = ()\n",
    "    for t in aTuple:\n",
    "#when there is only one element in the tuple, there must be a comma after the element to show it is a tuple\n"
   ]
  },
  {
   "cell_type": "code",
   "execution_count": 6,
   "metadata": {},
   "outputs": [
    {
     "data": {
      "text/plain": [
       "[5, 'a', 4, True]"
      ]
     },
     "execution_count": 6,
     "metadata": {},
     "output_type": "execute_result"
    }
   ],
   "source": [
    "\"\"\"lists\n",
    "ordered sequence of information\"\"\"\n",
    "\n",
    "b_list = [2,'a',4,True]\n",
    "b_list[0] = 5\n",
    "b_list"
   ]
  },
  {
   "cell_type": "code",
   "execution_count": 11,
   "metadata": {},
   "outputs": [
    {
     "name": "stdout",
     "output_type": "stream",
     "text": [
      "in the prog 0\n",
      "in the prog 1\n",
      "in the prog 2\n",
      "6\n"
     ]
    }
   ],
   "source": [
    "#traversal遍历 \n",
    "#find some element in the list\n",
    "L = [1,2,3,6]\n",
    "total = 0\n",
    "for i in range(len(L)):\n",
    "    # i as index\n",
    "    print(\"in the prog\",i)\n",
    "    total += L[i]\n",
    "print(total)\n",
    "\n"
   ]
  },
  {
   "cell_type": "code",
   "execution_count": 10,
   "metadata": {},
   "outputs": [
    {
     "name": "stdout",
     "output_type": "stream",
     "text": [
      "in the prog 2\n",
      "in the prog 3\n",
      "in the prog 5\n",
      "10\n"
     ]
    }
   ],
   "source": [
    "L = [2,3,5] \n",
    "total = 0\n",
    "for i in L:\n",
    "    total +=i\n",
    "    print(\"in the prog\",i)\n",
    "print(total)"
   ]
  },
  {
   "cell_type": "code",
   "execution_count": 14,
   "metadata": {},
   "outputs": [
    {
     "name": "stdout",
     "output_type": "stream",
     "text": [
      "[1, 2, 3, 5]\n",
      "[1, 2, 3, 5, [5]]\n"
     ]
    }
   ],
   "source": [
    "#operation on lists-add\n",
    "#append\n",
    "L = [1,2,3]\n",
    "L.append(5)\n",
    "print(L)\n",
    "L.append([5])\n",
    "print(L)\n",
    "# lists are python objects, everything in Python is an object \n",
    "#objects have data\n",
    "#objets habe methods methods and functions\n",
    "#access this information by object_name.do_something() append in this case\n",
    "\n",
    "# to combine lists togerther use concatenation, + operator\n",
    "#mutate改写 变异 list with L.extend(some_list)\n",
    "#delete element at a specific index with del\n",
    "# .pop()里面是空的 return the last element of the list\n",
    "# remove a speciifc element with L.remove(element)"
   ]
  },
  {
   "cell_type": "code",
   "execution_count": 30,
   "metadata": {},
   "outputs": [
    {
     "name": "stdout",
     "output_type": "stream",
     "text": [
      "[4, 5, 2]\n",
      "['t', 'o', 'd', 'a', 'y', ' ', 'i', 's', ' ', 's', 'e', 'p', ' ', '2', '6', '!']\n",
      "!\n"
     ]
    },
    {
     "data": {
      "text/plain": [
       "'t_o_d_a_y_ _i_s_ _s_e_p_ _2_6'"
      ]
     },
     "execution_count": 30,
     "metadata": {},
     "output_type": "execute_result"
    }
   ],
   "source": [
    "L = [2,3,4,5,2,3]\n",
    "L.remove(3)\n",
    "L.remove(3)\n",
    "L.remove(2)\n",
    "print(L)\n",
    "\n",
    "str = \"today is sep 26!\"\n",
    "LL = list(str)#include everything\n",
    "print(LL)\n",
    "print(LL.pop()) # the last element\n",
    "','.join(LL)\n",
    "'_'.join(LL) # the way to separate each element list to string& string to list\n",
    "\n"
   ]
  },
  {
   "cell_type": "code",
   "execution_count": 33,
   "metadata": {},
   "outputs": [
    {
     "name": "stdout",
     "output_type": "stream",
     "text": [
      "[3, 6, 8, 9]\n",
      "[3, 6, 8, 9]\n"
     ]
    }
   ],
   "source": [
    "L = [3,6,8,9]\n",
    "sorted(L)\n",
    "print(L)\n",
    "print(L)"
   ]
  },
  {
   "cell_type": "code",
   "execution_count": 32,
   "metadata": {},
   "outputs": [
    {
     "name": "stdout",
     "output_type": "stream",
     "text": [
      "[3, 6, 8, 9]\n"
     ]
    }
   ],
   "source": [
    "L.sort()\n",
    "print(L)"
   ]
  },
  {
   "cell_type": "code",
   "execution_count": 38,
   "metadata": {},
   "outputs": [
    {
     "name": "stdout",
     "output_type": "stream",
     "text": [
      "[1, 2, 100, 4, 5]\n"
     ]
    }
   ],
   "source": [
    "L = [1,2,3,4,5]\n",
    "L_copy = L[:]\n",
    "#获得一份一模一样的list\n",
    "L_copy in L\n",
    "L2 = L\n",
    "L2 is L\n",
    "L2[2] = 100\n",
    "print(L) #L change as well so be careful when you change one list.  we need to make a copy of the list\n",
    "\n"
   ]
  },
  {
   "cell_type": "code",
   "execution_count": 39,
   "metadata": {},
   "outputs": [],
   "source": [
    "#bring together loops, functions, range, and lists\n",
    "L = [5,2,7,9]\n",
    "L_copy = L[:]\n",
    "L_copy[3] = 10\n",
    "L2 = L\n",
    "L2[2] = 6\n",
    "#lists are mutable \n",
    "#mind the side effects\n",
    "# sort()mutate the lists\n",
    "# sorted()do not mutate the lists\n",
    "\n"
   ]
  },
  {
   "cell_type": "code",
   "execution_count": null,
   "metadata": {},
   "outputs": [],
   "source": [
    "def move_dups(L1,L2):\n",
    "    for e in L1:\n",
    "        if e in L2:\n",
    "            L1.remove(e)\n",
    "            \n",
    "def remove_dups_new(L1,L2):\n",
    "    L1_copy = L1[:]\n",
    "    "
   ]
  }
 ],
 "metadata": {
  "kernelspec": {
   "display_name": "Python 3",
   "language": "python",
   "name": "python3"
  },
  "language_info": {
   "codemirror_mode": {
    "name": "ipython",
    "version": 3
   },
   "file_extension": ".py",
   "mimetype": "text/x-python",
   "name": "python",
   "nbconvert_exporter": "python",
   "pygments_lexer": "ipython3",
   "version": "3.6.5"
  }
 },
 "nbformat": 4,
 "nbformat_minor": 2
}
