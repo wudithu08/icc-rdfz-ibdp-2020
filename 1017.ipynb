{
 "cells": [
  {
   "cell_type": "markdown",
   "metadata": {},
   "source": [
    "# Class"
   ]
  },
  {
   "cell_type": "markdown",
   "metadata": {},
   "source": [
    "before object oriented programming: procedure based programming<br>\n",
    "OOP is designed for large <br>\n",
    "every object has a type, an internal data representation, and a set of procedures for interaction with the object<br>\n",
    "unified modelling language: data and methods can be packaged into the same class<br>\n",
    "abstraction and encapsulation<br>"
   ]
  },
  {
   "cell_type": "code",
   "execution_count": 34,
   "metadata": {},
   "outputs": [
    {
     "name": "stdout",
     "output_type": "stream",
     "text": [
      "67.0 C\n",
      "AMD\n",
      "Alien\n",
      "Math: A\n",
      "Student name: AMD\n",
      "Student gender: Alien\n",
      "Student age: 50\n",
      "Student scores: \n",
      "subject: Math  score: 100\n",
      "subject: CS  score: 0\n",
      "subject: Man  score: 80\n",
      "subject: Eng  score: 88\n",
      "subject: Eco  score: 90\n",
      "\n",
      "71.6 C\n"
     ]
    }
   ],
   "source": [
    "def grid(score):\n",
    "    if score>=90:\n",
    "        return 'A'\n",
    "    elif score>=80:\n",
    "        return 'B'\n",
    "    elif score >=60:\n",
    "        return 'C'\n",
    "    else:\n",
    "        return 'D'\n",
    "class student():\n",
    "    \"\"\"\n",
    "    Class of a student that includes name, age, gender, and scores of all subjects\n",
    "    \"\"\"\n",
    "    def __init__(self,getname,getage,getgender,getgrades):\n",
    "        self.name=getname\n",
    "        self.age=getage\n",
    "        self.gender=getgender\n",
    "        self.grades=getgrades\n",
    "    def setname(self,name):\n",
    "        self.name=name\n",
    "    def setage(self,age):\n",
    "        self.age=age\n",
    "    def setgender(self,gender):\n",
    "        self.gender=gender\n",
    "    def setgrade(self,subject,grade):\n",
    "        self.grades[subject]=grade\n",
    "    def setgrades(self,gradelist):\n",
    "        num=0\n",
    "        for i in self.grades:\n",
    "            self.grades[i]=gradelist[num]\n",
    "            num+=1\n",
    "    def printname(self):\n",
    "        return self.name\n",
    "    def printage(self):\n",
    "        return self.age\n",
    "    def printgender(self):\n",
    "        return self.gender\n",
    "    def printgrades(self):\n",
    "        return self.grades\n",
    "    def avggrades(self):\n",
    "        avg=0\n",
    "        for i in self.grades:\n",
    "            avg=avg+self.grades[i]\n",
    "        avg=avg/len(self.grades)\n",
    "        return avg\n",
    "    def checkgrade(self,subject):\n",
    "        return grid(self.grades[subject])\n",
    "    def __str__(self):\n",
    "        out=''\n",
    "        out=out+\"Student name: \"+self.name+'\\n'\n",
    "        out=out+\"Student gender: \"+self.gender+'\\n'\n",
    "        out=out+\"Student age: \"+str(self.age)+'\\n'\n",
    "        out=out+\"Student scores: \"+'\\n'\n",
    "        for i in self.grades:\n",
    "            out=out+\"subject: \"+i+\"  score: \"+str(self.grades[i])+'\\n'\n",
    "        return out\n",
    "    def avggrid(self):\n",
    "        return grid(self.avggrades())\n",
    "scoredict={'Math':100, 'CS':0,'Man':80,\"Eng\":88}\n",
    "JSH=student('Huang',50,'Male',scoredict)\n",
    "print(JSH.avggrades(),JSH.avggrid())\n",
    "JSH.setname(\"AMD\")\n",
    "print(JSH.printname())\n",
    "JSH.setgender(\"Alien\")\n",
    "print(JSH.printgender())\n",
    "JSH.setgrade('Eco',90)\n",
    "JSH.printgrades()\n",
    "print('Math: '+JSH.checkgrade('Math'))\n",
    "print(JSH)\n",
    "print(JSH.avggrades(),JSH.avggrid())"
   ]
  },
  {
   "cell_type": "code",
   "execution_count": null,
   "metadata": {},
   "outputs": [],
   "source": []
  }
 ],
 "metadata": {
  "kernelspec": {
   "display_name": "Python 3",
   "language": "python",
   "name": "python3"
  },
  "language_info": {
   "codemirror_mode": {
    "name": "ipython",
    "version": 3
   },
   "file_extension": ".py",
   "mimetype": "text/x-python",
   "name": "python",
   "nbconvert_exporter": "python",
   "pygments_lexer": "ipython3",
   "version": "3.6.6"
  }
 },
 "nbformat": 4,
 "nbformat_minor": 2
}
